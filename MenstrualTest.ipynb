{
 "cells": [
  {
   "cell_type": "code",
   "execution_count": 7,
   "metadata": {},
   "outputs": [],
   "source": [
    "import numpy as np\n",
    "import  pandas as pd\n",
    "from sklearn.preprocessing import PolynomialFeatures\n",
    "from sklearn.linear_model import LinearRegression\n",
    "from sklearn.model_selection import train_test_split\n",
    "from sklearn.metrics import mean_squared_error, r2_score\n",
    "from sklearn.metrics import mean_squared_error"
   ]
  },
  {
   "cell_type": "code",
   "execution_count": 2,
   "metadata": {},
   "outputs": [],
   "source": [
    "def predict_menstrual_cycle(periods):\n",
    "    average_period = np.mean(periods)\n",
    "    std_deviation = np.std(periods)\n",
    "    covariance_matrix = np.cov(periods[:-1], periods[1:])\n",
    "    predicted_cycle = np.random.multivariate_normal([average_period, average_period], covariance_matrix, 1)[0]\n",
    "    return predicted_cycle"
   ]
  },
  {
   "cell_type": "code",
   "execution_count": 3,
   "metadata": {},
   "outputs": [
    {
     "name": "stdout",
     "output_type": "stream",
     "text": [
      "[30.06200183 32.34490373]\n"
     ]
    }
   ],
   "source": [
    "dataset = pd.read_csv(\"CycleData.csv\")\n",
    "# print(dataset.head())\n",
    "length_of_cycle = dataset[\"LengthofCycle\"].tolist()\n",
    "print(predict_menstrual_cycle(length_of_cycle))"
   ]
  },
  {
   "cell_type": "code",
   "execution_count": 4,
   "metadata": {},
   "outputs": [],
   "source": [
    "ClientId = \"2323\"\n",
    "CycleNumber = 1\n",
    "LengthOfCycle = 28\n",
    "estimated_day_of_ovulation = 14\n",
    "Age=22\n",
    "Weight=56\n",
    "Height=90\n",
    "BMI=21.25472411\n",
    "# Create a dictionary with the user data\n",
    "user_data = {\n",
    "    \"ClientID\": [ClientId],\n",
    "    \"CycleNumber\": [CycleNumber],\n",
    "    \"LengthOfCycle\": [LengthOfCycle],\n",
    "    \"ClientWeight\": [Weight],\n",
    "    \"ClientAge\":[Age],\n",
    "    \"ClientBMI\":[BMI],\n",
    "    \"ClientHeight\":[Height],\n",
    "\n",
    "}\n",
    "\n",
    "# Load the existing dataset from a CSV file\n",
    "existing_data = pd.read_csv(\"CycleData.csv\")\n",
    "\n",
    "# Create a new DataFrame with the user data\n",
    "new_data = pd.DataFrame(user_data)\n",
    "\n",
    "# Concatenate the new data with the existing dataset\n",
    "combined_data = pd.concat([existing_data, new_data], ignore_index=True)\n",
    "\n",
    "# Save the combined data to a new CSV file\n",
    "combined_data.to_csv(\"Combined_dataset.csv\", index=False)\n",
    "\n",
    "\n"
   ]
  },
  {
   "cell_type": "code",
   "execution_count": 5,
   "metadata": {},
   "outputs": [
    {
     "name": "stdout",
     "output_type": "stream",
     "text": [
      "Index(['ClientID', 'CycleNumber', 'Group', 'CycleWithPeakorNot',\n",
      "       'ReproductiveCategory', 'LengthofCycle', 'MeanCycleLength',\n",
      "       'EstimatedDayofOvulation', 'LengthofLutealPhase', 'FirstDayofHigh',\n",
      "       'TotalNumberofHighDays', 'TotalHighPostPeak', 'TotalNumberofPeakDays',\n",
      "       'TotalDaysofFertility', 'TotalFertilityFormula', 'LengthofMenses',\n",
      "       'MeanMensesLength', 'MensesScoreDayOne', 'MensesScoreDayTwo',\n",
      "       'MensesScoreDayThree', 'MensesScoreDayFour', 'MensesScoreDayFive',\n",
      "       'MensesScoreDaySix', 'MensesScoreDaySeven', 'MensesScoreDayEight',\n",
      "       'MensesScoreDayNine', 'MensesScoreDayTen', 'MensesScoreDay11',\n",
      "       'MensesScoreDay12', 'MensesScoreDay13', 'MensesScoreDay14',\n",
      "       'MensesScoreDay15', 'TotalMensesScore', 'MeanBleedingIntensity',\n",
      "       'NumberofDaysofIntercourse', 'IntercourseInFertileWindow',\n",
      "       'UnusualBleeding', 'PhasesBleeding', 'IntercourseDuringUnusBleed',\n",
      "       'Age', 'AgeM', 'Maristatus', 'MaristatusM', 'Yearsmarried', 'Wedding',\n",
      "       'Religion', 'ReligionM', 'Ethnicity', 'EthnicityM', 'Schoolyears',\n",
      "       'SchoolyearsM', 'OccupationM', 'IncomeM', 'Height', 'Weight',\n",
      "       'Reprocate', 'Numberpreg', 'Livingkids', 'Miscarriages', 'Abortions',\n",
      "       'Medvits', 'Medvitexplain', 'Gynosurgeries', 'LivingkidsM', 'Boys',\n",
      "       'Girls', 'MedvitsM', 'MedvitexplainM', 'Urosurgeries', 'Breastfeeding',\n",
      "       'Method', 'Prevmethod', 'Methoddate', 'Whychart', 'Nextpreg',\n",
      "       'NextpregM', 'Spousesame', 'SpousesameM', 'Timeattemptpreg', 'BMI',\n",
      "       'LengthOfCycle', 'ClientWeight', 'ClientAge', 'ClientBMI',\n",
      "       'ClientHeight'],\n",
      "      dtype='object')\n"
     ]
    }
   ],
   "source": [
    "print(combined_data.columns)"
   ]
  },
  {
   "cell_type": "code",
   "execution_count": 6,
   "metadata": {},
   "outputs": [
    {
     "ename": "KeyError",
     "evalue": "'CorrectNextPeriodDate'",
     "output_type": "error",
     "traceback": [
      "\u001b[1;31m---------------------------------------------------------------------------\u001b[0m",
      "\u001b[1;31mKeyError\u001b[0m                                  Traceback (most recent call last)",
      "File \u001b[1;32mc:\\Users\\pc\\Desktop\\FemCycle_APP\\mens_venv\\Lib\\site-packages\\pandas\\core\\indexes\\base.py:3653\u001b[0m, in \u001b[0;36mIndex.get_loc\u001b[1;34m(self, key)\u001b[0m\n\u001b[0;32m   3652\u001b[0m \u001b[39mtry\u001b[39;00m:\n\u001b[1;32m-> 3653\u001b[0m     \u001b[39mreturn\u001b[39;00m \u001b[39mself\u001b[39;49m\u001b[39m.\u001b[39;49m_engine\u001b[39m.\u001b[39;49mget_loc(casted_key)\n\u001b[0;32m   3654\u001b[0m \u001b[39mexcept\u001b[39;00m \u001b[39mKeyError\u001b[39;00m \u001b[39mas\u001b[39;00m err:\n",
      "File \u001b[1;32mc:\\Users\\pc\\Desktop\\FemCycle_APP\\mens_venv\\Lib\\site-packages\\pandas\\_libs\\index.pyx:147\u001b[0m, in \u001b[0;36mpandas._libs.index.IndexEngine.get_loc\u001b[1;34m()\u001b[0m\n",
      "File \u001b[1;32mc:\\Users\\pc\\Desktop\\FemCycle_APP\\mens_venv\\Lib\\site-packages\\pandas\\_libs\\index.pyx:176\u001b[0m, in \u001b[0;36mpandas._libs.index.IndexEngine.get_loc\u001b[1;34m()\u001b[0m\n",
      "File \u001b[1;32mpandas\\_libs\\hashtable_class_helper.pxi:7080\u001b[0m, in \u001b[0;36mpandas._libs.hashtable.PyObjectHashTable.get_item\u001b[1;34m()\u001b[0m\n",
      "File \u001b[1;32mpandas\\_libs\\hashtable_class_helper.pxi:7088\u001b[0m, in \u001b[0;36mpandas._libs.hashtable.PyObjectHashTable.get_item\u001b[1;34m()\u001b[0m\n",
      "\u001b[1;31mKeyError\u001b[0m: 'CorrectNextPeriodDate'",
      "\nThe above exception was the direct cause of the following exception:\n",
      "\u001b[1;31mKeyError\u001b[0m                                  Traceback (most recent call last)",
      "Cell \u001b[1;32mIn[6], line 1\u001b[0m\n\u001b[1;32m----> 1\u001b[0m combined_data[\u001b[39m'\u001b[39m\u001b[39mCorrectNextPeriodDate\u001b[39m\u001b[39m'\u001b[39m] \u001b[39m=\u001b[39m combined_data[\u001b[39m'\u001b[39;49m\u001b[39mCorrectNextPeriodDate\u001b[39;49m\u001b[39m'\u001b[39;49m]\u001b[39m.\u001b[39mstr\u001b[39m.\u001b[39mstrip()\n",
      "File \u001b[1;32mc:\\Users\\pc\\Desktop\\FemCycle_APP\\mens_venv\\Lib\\site-packages\\pandas\\core\\frame.py:3761\u001b[0m, in \u001b[0;36mDataFrame.__getitem__\u001b[1;34m(self, key)\u001b[0m\n\u001b[0;32m   3759\u001b[0m \u001b[39mif\u001b[39;00m \u001b[39mself\u001b[39m\u001b[39m.\u001b[39mcolumns\u001b[39m.\u001b[39mnlevels \u001b[39m>\u001b[39m \u001b[39m1\u001b[39m:\n\u001b[0;32m   3760\u001b[0m     \u001b[39mreturn\u001b[39;00m \u001b[39mself\u001b[39m\u001b[39m.\u001b[39m_getitem_multilevel(key)\n\u001b[1;32m-> 3761\u001b[0m indexer \u001b[39m=\u001b[39m \u001b[39mself\u001b[39;49m\u001b[39m.\u001b[39;49mcolumns\u001b[39m.\u001b[39;49mget_loc(key)\n\u001b[0;32m   3762\u001b[0m \u001b[39mif\u001b[39;00m is_integer(indexer):\n\u001b[0;32m   3763\u001b[0m     indexer \u001b[39m=\u001b[39m [indexer]\n",
      "File \u001b[1;32mc:\\Users\\pc\\Desktop\\FemCycle_APP\\mens_venv\\Lib\\site-packages\\pandas\\core\\indexes\\base.py:3655\u001b[0m, in \u001b[0;36mIndex.get_loc\u001b[1;34m(self, key)\u001b[0m\n\u001b[0;32m   3653\u001b[0m     \u001b[39mreturn\u001b[39;00m \u001b[39mself\u001b[39m\u001b[39m.\u001b[39m_engine\u001b[39m.\u001b[39mget_loc(casted_key)\n\u001b[0;32m   3654\u001b[0m \u001b[39mexcept\u001b[39;00m \u001b[39mKeyError\u001b[39;00m \u001b[39mas\u001b[39;00m err:\n\u001b[1;32m-> 3655\u001b[0m     \u001b[39mraise\u001b[39;00m \u001b[39mKeyError\u001b[39;00m(key) \u001b[39mfrom\u001b[39;00m \u001b[39merr\u001b[39;00m\n\u001b[0;32m   3656\u001b[0m \u001b[39mexcept\u001b[39;00m \u001b[39mTypeError\u001b[39;00m:\n\u001b[0;32m   3657\u001b[0m     \u001b[39m# If we have a listlike key, _check_indexing_error will raise\u001b[39;00m\n\u001b[0;32m   3658\u001b[0m     \u001b[39m#  InvalidIndexError. Otherwise we fall through and re-raise\u001b[39;00m\n\u001b[0;32m   3659\u001b[0m     \u001b[39m#  the TypeError.\u001b[39;00m\n\u001b[0;32m   3660\u001b[0m     \u001b[39mself\u001b[39m\u001b[39m.\u001b[39m_check_indexing_error(key)\n",
      "\u001b[1;31mKeyError\u001b[0m: 'CorrectNextPeriodDate'"
     ]
    }
   ],
   "source": [
    "combined_data['CorrectNextPeriodDate'] = combined_data['CorrectNextPeriodDate'].str.strip()"
   ]
  },
  {
   "cell_type": "code",
   "execution_count": null,
   "metadata": {},
   "outputs": [
    {
     "ename": "KeyError",
     "evalue": "'NextPeriodDate'",
     "output_type": "error",
     "traceback": [
      "\u001b[1;31m---------------------------------------------------------------------------\u001b[0m",
      "\u001b[1;31mKeyError\u001b[0m                                  Traceback (most recent call last)",
      "File \u001b[1;32mc:\\Users\\pc\\Desktop\\FemCycle_APP\\mens_venv\\Lib\\site-packages\\pandas\\core\\indexes\\base.py:3653\u001b[0m, in \u001b[0;36mIndex.get_loc\u001b[1;34m(self, key)\u001b[0m\n\u001b[0;32m   3652\u001b[0m \u001b[39mtry\u001b[39;00m:\n\u001b[1;32m-> 3653\u001b[0m     \u001b[39mreturn\u001b[39;00m \u001b[39mself\u001b[39;49m\u001b[39m.\u001b[39;49m_engine\u001b[39m.\u001b[39;49mget_loc(casted_key)\n\u001b[0;32m   3654\u001b[0m \u001b[39mexcept\u001b[39;00m \u001b[39mKeyError\u001b[39;00m \u001b[39mas\u001b[39;00m err:\n",
      "File \u001b[1;32mc:\\Users\\pc\\Desktop\\FemCycle_APP\\mens_venv\\Lib\\site-packages\\pandas\\_libs\\index.pyx:147\u001b[0m, in \u001b[0;36mpandas._libs.index.IndexEngine.get_loc\u001b[1;34m()\u001b[0m\n",
      "File \u001b[1;32mc:\\Users\\pc\\Desktop\\FemCycle_APP\\mens_venv\\Lib\\site-packages\\pandas\\_libs\\index.pyx:176\u001b[0m, in \u001b[0;36mpandas._libs.index.IndexEngine.get_loc\u001b[1;34m()\u001b[0m\n",
      "File \u001b[1;32mpandas\\_libs\\hashtable_class_helper.pxi:7080\u001b[0m, in \u001b[0;36mpandas._libs.hashtable.PyObjectHashTable.get_item\u001b[1;34m()\u001b[0m\n",
      "File \u001b[1;32mpandas\\_libs\\hashtable_class_helper.pxi:7088\u001b[0m, in \u001b[0;36mpandas._libs.hashtable.PyObjectHashTable.get_item\u001b[1;34m()\u001b[0m\n",
      "\u001b[1;31mKeyError\u001b[0m: 'NextPeriodDate'",
      "\nThe above exception was the direct cause of the following exception:\n",
      "\u001b[1;31mKeyError\u001b[0m                                  Traceback (most recent call last)",
      "Cell \u001b[1;32mIn[5], line 5\u001b[0m\n\u001b[0;32m      3\u001b[0m \u001b[39m# Select the relevant columns for the input features and target variable\u001b[39;00m\n\u001b[0;32m      4\u001b[0m X \u001b[39m=\u001b[39m combined_dataset[[\u001b[39m'\u001b[39m\u001b[39mClientAge\u001b[39m\u001b[39m'\u001b[39m, \u001b[39m'\u001b[39m\u001b[39mClientWeight\u001b[39m\u001b[39m'\u001b[39m, \u001b[39m'\u001b[39m\u001b[39mLengthOfCycle\u001b[39m\u001b[39m'\u001b[39m, \u001b[39m'\u001b[39m\u001b[39mClientHeight\u001b[39m\u001b[39m'\u001b[39m, \u001b[39m'\u001b[39m\u001b[39mClientBMI\u001b[39m\u001b[39m'\u001b[39m]]\n\u001b[1;32m----> 5\u001b[0m y \u001b[39m=\u001b[39m combined_dataset[\u001b[39m'\u001b[39;49m\u001b[39mNextPeriodDate\u001b[39;49m\u001b[39m'\u001b[39;49m]\n\u001b[0;32m      7\u001b[0m \u001b[39m# Train a linear regression model\u001b[39;00m\n\u001b[0;32m      8\u001b[0m model \u001b[39m=\u001b[39m LinearRegression()\n",
      "File \u001b[1;32mc:\\Users\\pc\\Desktop\\FemCycle_APP\\mens_venv\\Lib\\site-packages\\pandas\\core\\frame.py:3761\u001b[0m, in \u001b[0;36mDataFrame.__getitem__\u001b[1;34m(self, key)\u001b[0m\n\u001b[0;32m   3759\u001b[0m \u001b[39mif\u001b[39;00m \u001b[39mself\u001b[39m\u001b[39m.\u001b[39mcolumns\u001b[39m.\u001b[39mnlevels \u001b[39m>\u001b[39m \u001b[39m1\u001b[39m:\n\u001b[0;32m   3760\u001b[0m     \u001b[39mreturn\u001b[39;00m \u001b[39mself\u001b[39m\u001b[39m.\u001b[39m_getitem_multilevel(key)\n\u001b[1;32m-> 3761\u001b[0m indexer \u001b[39m=\u001b[39m \u001b[39mself\u001b[39;49m\u001b[39m.\u001b[39;49mcolumns\u001b[39m.\u001b[39;49mget_loc(key)\n\u001b[0;32m   3762\u001b[0m \u001b[39mif\u001b[39;00m is_integer(indexer):\n\u001b[0;32m   3763\u001b[0m     indexer \u001b[39m=\u001b[39m [indexer]\n",
      "File \u001b[1;32mc:\\Users\\pc\\Desktop\\FemCycle_APP\\mens_venv\\Lib\\site-packages\\pandas\\core\\indexes\\base.py:3655\u001b[0m, in \u001b[0;36mIndex.get_loc\u001b[1;34m(self, key)\u001b[0m\n\u001b[0;32m   3653\u001b[0m     \u001b[39mreturn\u001b[39;00m \u001b[39mself\u001b[39m\u001b[39m.\u001b[39m_engine\u001b[39m.\u001b[39mget_loc(casted_key)\n\u001b[0;32m   3654\u001b[0m \u001b[39mexcept\u001b[39;00m \u001b[39mKeyError\u001b[39;00m \u001b[39mas\u001b[39;00m err:\n\u001b[1;32m-> 3655\u001b[0m     \u001b[39mraise\u001b[39;00m \u001b[39mKeyError\u001b[39;00m(key) \u001b[39mfrom\u001b[39;00m \u001b[39merr\u001b[39;00m\n\u001b[0;32m   3656\u001b[0m \u001b[39mexcept\u001b[39;00m \u001b[39mTypeError\u001b[39;00m:\n\u001b[0;32m   3657\u001b[0m     \u001b[39m# If we have a listlike key, _check_indexing_error will raise\u001b[39;00m\n\u001b[0;32m   3658\u001b[0m     \u001b[39m#  InvalidIndexError. Otherwise we fall through and re-raise\u001b[39;00m\n\u001b[0;32m   3659\u001b[0m     \u001b[39m#  the TypeError.\u001b[39;00m\n\u001b[0;32m   3660\u001b[0m     \u001b[39mself\u001b[39m\u001b[39m.\u001b[39m_check_indexing_error(key)\n",
      "\u001b[1;31mKeyError\u001b[0m: 'NextPeriodDate'"
     ]
    }
   ],
   "source": [
    "combined_dataset = pd.read_csv(\"Combined_dataset.csv\")\n",
    "\n",
    "# Select the relevant columns for the input features and target variable\n",
    "X = combined_dataset[['ClientAge', 'ClientWeight', 'LengthOfCycle', 'ClientHeight', 'ClientBMI']]\n",
    "y = combined_dataset['NextPeriodDate']\n",
    "\n",
    "# Train a linear regression model\n",
    "model = LinearRegression()\n",
    "model.fit(X, y)\n",
    "\n",
    "# Prepare the user's data for prediction\n",
    "user_data = {\n",
    "    \"ClientID\": [ClientId],\n",
    "    \"CycleNumber\": [CycleNumber],\n",
    "    \"LengthOfCycle\": [LengthOfCycle],\n",
    "    \"ClientWeight\": [Weight],\n",
    "    \"ClientAge\":[Age],\n",
    "    \"ClientBMI\":[BMI],\n",
    "}\n",
    "user_data = pd.DataFrame(user_data)\n",
    "\n",
    "# Predict the next period date for the user\n",
    "next_period_date = model.predict(user_data)\n",
    "\n",
    "print(\"Predicted Next Period Date:\", next_period_date)"
   ]
  },
  {
   "cell_type": "code",
   "execution_count": 10,
   "metadata": {},
   "outputs": [
    {
     "ename": "KeyError",
     "evalue": "\"None of [Index(['IndependentVariable'], dtype='object')] are in the [columns]\"",
     "output_type": "error",
     "traceback": [
      "\u001b[1;31m---------------------------------------------------------------------------\u001b[0m",
      "\u001b[1;31mKeyError\u001b[0m                                  Traceback (most recent call last)",
      "Cell \u001b[1;32mIn[10], line 9\u001b[0m\n\u001b[0;32m      7\u001b[0m \u001b[39m# Fit the initial model\u001b[39;00m\n\u001b[0;32m      8\u001b[0m model \u001b[39m=\u001b[39m LinearRegression()\n\u001b[1;32m----> 9\u001b[0m model\u001b[39m.\u001b[39mfit(initial_train_data[[\u001b[39m'\u001b[39;49m\u001b[39mIndependentVariable\u001b[39;49m\u001b[39m'\u001b[39;49m]], initial_train_data[\u001b[39m'\u001b[39m\u001b[39mDependentVariable\u001b[39m\u001b[39m'\u001b[39m])\n",
      "File \u001b[1;32mc:\\Users\\pc\\Desktop\\FemCycle_APP\\mens_venv\\Lib\\site-packages\\pandas\\core\\frame.py:3767\u001b[0m, in \u001b[0;36mDataFrame.__getitem__\u001b[1;34m(self, key)\u001b[0m\n\u001b[0;32m   3765\u001b[0m     \u001b[39mif\u001b[39;00m is_iterator(key):\n\u001b[0;32m   3766\u001b[0m         key \u001b[39m=\u001b[39m \u001b[39mlist\u001b[39m(key)\n\u001b[1;32m-> 3767\u001b[0m     indexer \u001b[39m=\u001b[39m \u001b[39mself\u001b[39;49m\u001b[39m.\u001b[39;49mcolumns\u001b[39m.\u001b[39;49m_get_indexer_strict(key, \u001b[39m\"\u001b[39;49m\u001b[39mcolumns\u001b[39;49m\u001b[39m\"\u001b[39;49m)[\u001b[39m1\u001b[39m]\n\u001b[0;32m   3769\u001b[0m \u001b[39m# take() does not accept boolean indexers\u001b[39;00m\n\u001b[0;32m   3770\u001b[0m \u001b[39mif\u001b[39;00m \u001b[39mgetattr\u001b[39m(indexer, \u001b[39m\"\u001b[39m\u001b[39mdtype\u001b[39m\u001b[39m\"\u001b[39m, \u001b[39mNone\u001b[39;00m) \u001b[39m==\u001b[39m \u001b[39mbool\u001b[39m:\n",
      "File \u001b[1;32mc:\\Users\\pc\\Desktop\\FemCycle_APP\\mens_venv\\Lib\\site-packages\\pandas\\core\\indexes\\base.py:5877\u001b[0m, in \u001b[0;36mIndex._get_indexer_strict\u001b[1;34m(self, key, axis_name)\u001b[0m\n\u001b[0;32m   5874\u001b[0m \u001b[39melse\u001b[39;00m:\n\u001b[0;32m   5875\u001b[0m     keyarr, indexer, new_indexer \u001b[39m=\u001b[39m \u001b[39mself\u001b[39m\u001b[39m.\u001b[39m_reindex_non_unique(keyarr)\n\u001b[1;32m-> 5877\u001b[0m \u001b[39mself\u001b[39;49m\u001b[39m.\u001b[39;49m_raise_if_missing(keyarr, indexer, axis_name)\n\u001b[0;32m   5879\u001b[0m keyarr \u001b[39m=\u001b[39m \u001b[39mself\u001b[39m\u001b[39m.\u001b[39mtake(indexer)\n\u001b[0;32m   5880\u001b[0m \u001b[39mif\u001b[39;00m \u001b[39misinstance\u001b[39m(key, Index):\n\u001b[0;32m   5881\u001b[0m     \u001b[39m# GH 42790 - Preserve name from an Index\u001b[39;00m\n",
      "File \u001b[1;32mc:\\Users\\pc\\Desktop\\FemCycle_APP\\mens_venv\\Lib\\site-packages\\pandas\\core\\indexes\\base.py:5938\u001b[0m, in \u001b[0;36mIndex._raise_if_missing\u001b[1;34m(self, key, indexer, axis_name)\u001b[0m\n\u001b[0;32m   5936\u001b[0m     \u001b[39mif\u001b[39;00m use_interval_msg:\n\u001b[0;32m   5937\u001b[0m         key \u001b[39m=\u001b[39m \u001b[39mlist\u001b[39m(key)\n\u001b[1;32m-> 5938\u001b[0m     \u001b[39mraise\u001b[39;00m \u001b[39mKeyError\u001b[39;00m(\u001b[39mf\u001b[39m\u001b[39m\"\u001b[39m\u001b[39mNone of [\u001b[39m\u001b[39m{\u001b[39;00mkey\u001b[39m}\u001b[39;00m\u001b[39m] are in the [\u001b[39m\u001b[39m{\u001b[39;00maxis_name\u001b[39m}\u001b[39;00m\u001b[39m]\u001b[39m\u001b[39m\"\u001b[39m)\n\u001b[0;32m   5940\u001b[0m not_found \u001b[39m=\u001b[39m \u001b[39mlist\u001b[39m(ensure_index(key)[missing_mask\u001b[39m.\u001b[39mnonzero()[\u001b[39m0\u001b[39m]]\u001b[39m.\u001b[39munique())\n\u001b[0;32m   5941\u001b[0m \u001b[39mraise\u001b[39;00m \u001b[39mKeyError\u001b[39;00m(\u001b[39mf\u001b[39m\u001b[39m\"\u001b[39m\u001b[39m{\u001b[39;00mnot_found\u001b[39m}\u001b[39;00m\u001b[39m not in index\u001b[39m\u001b[39m\"\u001b[39m)\n",
      "\u001b[1;31mKeyError\u001b[0m: \"None of [Index(['IndependentVariable'], dtype='object')] are in the [columns]\""
     ]
    }
   ],
   "source": [
    "# Split the data into initial training set and streaming data set\n",
    "n_initial_samples = 100  # Number of initial training samples\n",
    "initial_train_data = combined_dataset[:n_initial_samples]\n",
    "streaming_data = combined_dataset[n_initial_samples:]\n",
    "\n",
    "\n",
    "# Fit the initial model\n",
    "degree = 2  # Degree of polynomial features\n",
    "poly_features = PolynomialFeatures(degree=degree)\n",
    "X_initial_train = poly_features.fit_transform(initial_train_data[['IndependentVariable']])\n",
    "y_initial_train = initial_train_data['DependentVariable']\n",
    "\n",
    "model = LinearRegression()\n",
    "model.fit(X_initial_train, y_initial_train)\n",
    "\n",
    "# Iterate over the streaming data and update the model\n",
    "for i in range(len(streaming_data)):\n",
    "    # Get the next sample from the streaming data set\n",
    "    sample = streaming_data.iloc[i]\n",
    "\n",
    "    # Update the model with the new sample\n",
    "    x = np.array(sample['IndependentVariable']).reshape(1, -1)\n",
    "    X_poly = poly_features.transform(x)\n",
    "    y = np.array(sample['DependentVariable'])\n",
    "    model.partial_fit(X_poly, [y])\n",
    "\n",
    "# Evaluate the updated model on the streaming data set\n",
    "X_stream = poly_features.transform(streaming_data[['IndependentVariable']])\n",
    "y_stream = streaming_data['DependentVariable']\n",
    "y_pred_stream = model.predict(X_stream)\n",
    "\n",
    "# Calculate evaluation metrics\n",
    "mse_stream = mean_squared_error(y_stream, y_pred_stream)\n",
    "r2_stream = r2_score(y_stream, y_pred_stream)"
   ]
  },
  {
   "cell_type": "code",
   "execution_count": null,
   "metadata": {},
   "outputs": [],
   "source": [
    "for i in range(len(streaming_data)):\n",
    "    # Get the next sample from the streaming data set\n",
    "    sample = streaming_data.iloc[i]\n",
    "\n",
    "    # Update the model with the new sample\n",
    "    x = np.array(sample['IndependentVariable']).reshape(1, -1)\n",
    "    y = np.array(sample['DependentVariable'])\n",
    "    model.partial_fit(x, [y])"
   ]
  },
  {
   "cell_type": "code",
   "execution_count": null,
   "metadata": {},
   "outputs": [],
   "source": [
    "# Evaluate the updated model on the streaming data set\n",
    "x_stream = streaming_data[['IndependentVariable']]\n",
    "y_stream = streaming_data['DependentVariable']\n",
    "y_pred_stream = model.predict(x_stream)\n",
    "\n",
    "# Calculate evaluation metrics\n",
    "mse_stream = mean_squared_error(y_stream, y_pred_stream)\n",
    "r2_stream = r2_score(y_stream, y_pred_stream)"
   ]
  }
 ],
 "metadata": {
  "kernelspec": {
   "display_name": "mens_venv",
   "language": "python",
   "name": "python3"
  },
  "language_info": {
   "codemirror_mode": {
    "name": "ipython",
    "version": 3
   },
   "file_extension": ".py",
   "mimetype": "text/x-python",
   "name": "python",
   "nbconvert_exporter": "python",
   "pygments_lexer": "ipython3",
   "version": "3.11.3"
  },
  "orig_nbformat": 4
 },
 "nbformat": 4,
 "nbformat_minor": 2
}
